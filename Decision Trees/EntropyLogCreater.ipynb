{
 "cells": [
  {
   "cell_type": "code",
   "execution_count": 23,
   "metadata": {
    "collapsed": false
   },
   "outputs": [],
   "source": []
  },
  {
   "cell_type": "code",
   "execution_count": 24,
   "metadata": {
    "collapsed": false
   },
   "outputs": [
    {
     "data": {
      "text/plain": [
       "1.5694144580557645"
      ]
     },
     "execution_count": 24,
     "metadata": {},
     "output_type": "execute_result"
    }
   ],
   "source": [
    "Etarget"
   ]
  },
  {
   "cell_type": "code",
   "execution_count": 110,
   "metadata": {
    "collapsed": false
   },
   "outputs": [
    {
     "data": {
      "text/plain": [
       "1.3484416482388437"
      ]
     },
     "execution_count": 110,
     "metadata": {},
     "output_type": "execute_result"
    }
   ],
   "source": [
    "tot = 118.0\n",
    "\n",
    "pr1 = 56.0\n",
    "p11 = 32.0/pr1\n",
    "p12 = 20.0/pr1\n",
    "p13 = 4.0/pr1\n",
    "\n",
    "E1  = (p11 * math.log(p11,2)) + (p12 * math.log(p12,2)) + (p13 * math.log(p13,2))\n",
    "E1 = -1 * E1\n",
    "\n",
    "pr2 = 62.0\n",
    "p21 = 8.0/pr2\n",
    "p22 = 26.0/pr2\n",
    "p23 = 28.0/pr2\n",
    "\n",
    "E2  = (p21 * math.log(p21,2)) + (p22 * math.log(p22,2)) + (p23 * math.log(p23,2))\n",
    "E2 = -1 * E2\n",
    "\n",
    "Etx = ((pr1/tot) * E1) + ((pr2/tot) * E2)\n",
    "Etx"
   ]
  },
  {
   "cell_type": "code",
   "execution_count": 226,
   "metadata": {
    "collapsed": false
   },
   "outputs": [
    {
     "name": "stdout",
     "output_type": "stream",
     "text": [
      "(8.0, 16.0, 0.0, 24.0)\n"
     ]
    },
    {
     "data": {
      "text/plain": [
       "0.9182958340544896"
      ]
     },
     "execution_count": 226,
     "metadata": {},
     "output_type": "execute_result"
    }
   ],
   "source": [
    "import pandas as pd\n",
    "import math\n",
    "\n",
    "df = pd.read_csv('TrainData2.csv')\n",
    "\n",
    "df = (df.loc[df['Flavanoids'] == '≥ 2.135'])\n",
    "\n",
    "df1 = (df.loc[df['Class'] == 'Class 1'])\n",
    "df2 = (df.loc[df['Class'] == 'Class 2'])\n",
    "df3 = (df.loc[df['Class'] == 'Class 3'])\n",
    "\n",
    "tot = len(df) *(1.0)\n",
    "ldf1 = len(df1) * 1.0\n",
    "ldf2 = len(df2) * 1.0\n",
    "ldf3 = len(df3) * 1.0\n",
    "\n",
    "print (ldf1,ldf2,ldf3,tot)\n",
    "\n",
    "p1 = ldf1/tot\n",
    "p2 = ldf2/tot\n",
    "p3 = ldf3/tot\n",
    "\n",
    "if (p1 == 0):\n",
    "    z1 = 0\n",
    "else:\n",
    "    z1 = (p1 * math.log(p1,2))\n",
    "    \n",
    "if (p2 == 0):\n",
    "    z2 = 0\n",
    "else:\n",
    "    z2 = (p2 * math.log(p2,2))\n",
    "    \n",
    "if (p3 == 0):\n",
    "    z3 = 0\n",
    "else:\n",
    "    z3 = (p3 * math.log(p3,2))\n",
    "\n",
    "Etarget  =  z1 + z2 + z3\n",
    "Etarget = -1 * Etarget\n",
    "\n",
    "Etarget"
   ]
  },
  {
   "cell_type": "code",
   "execution_count": 227,
   "metadata": {
    "collapsed": false
   },
   "outputs": [
    {
     "name": "stdout",
     "output_type": "stream",
     "text": [
      "(0.0625, 0.9375, 0.0, 16.0)\n",
      "(0.875, 0.125, 0.0, 8.0)\n"
     ]
    },
    {
     "data": {
      "text/plain": [
       "0.40604819214454135"
      ]
     },
     "execution_count": 227,
     "metadata": {},
     "output_type": "execute_result"
    }
   ],
   "source": [
    "#alchol\n",
    "\n",
    "tot = len(df) *(1.0)\n",
    "\n",
    "dfAlc1 = df.loc[df['Alcohol'] == '< 13.04']\n",
    "dfAlc2 = df.loc[df['Alcohol'] == '≥ 13.04']\n",
    "pr1 = len(dfAlc1) * 1.0\n",
    "pr2 = len(dfAlc2) * 1.0\n",
    "\n",
    "p11 = len(dfAlc1.loc[df['Class'] == 'Class 1']) * 1.0 / pr1\n",
    "p12 = len(dfAlc1.loc[df['Class'] == 'Class 2']) * 1.0 / pr1\n",
    "p13 = len(dfAlc1.loc[df['Class'] == 'Class 3']) * 1.0 / pr1\n",
    "\n",
    "p21 = len(dfAlc2.loc[df['Class'] == 'Class 1']) * 1.0 / pr2\n",
    "p22 = len(dfAlc2.loc[df['Class'] == 'Class 2']) * 1.0 / pr2\n",
    "p23 = len(dfAlc2.loc[df['Class'] == 'Class 3']) * 1.0 / pr2\n",
    "\n",
    "\n",
    "print(p11,p12,p13,pr1)\n",
    "print(p21,p22,p23,pr2)\n",
    "\n",
    "\n",
    "if (p11 == 0):\n",
    "    x1 = 0\n",
    "else:\n",
    "    x1 = (p11 * math.log(p11,2))\n",
    "\n",
    "if (p12 == 0):\n",
    "    x2 = 0\n",
    "else:\n",
    "    x2 = (p12 * math.log(p12,2))\n",
    "    \n",
    "if (p13 == 0):\n",
    "    x3 = 0;\n",
    "else:\n",
    "    x3 = (p13 * math.log(p13,2))\n",
    "\n",
    "E1  = x1 + x2 + x3\n",
    "E1 = -1 * E1\n",
    "\n",
    "if (p21 == 0):\n",
    "    y1 = 0\n",
    "else:\n",
    "    y1 = (p21 * math.log(p21,2))\n",
    "\n",
    "if (p22 == 0):\n",
    "    y2 = 0\n",
    "else:\n",
    "    y2 = (p22 * math.log(p22,2))\n",
    "    \n",
    "if (p23 == 0):\n",
    "    y3 = 0;\n",
    "else:\n",
    "    y3 = (p23 * math.log(p23,2))\n",
    "    \n",
    "E2  =  y1 +y2 + y3\n",
    "E2 = -1 * E2\n",
    "\n",
    "Etx = ((pr1/tot) * E1) + ((pr2/tot) * E2)\n",
    "A1 = Etx \n",
    "Etx\n"
   ]
  },
  {
   "cell_type": "code",
   "execution_count": 228,
   "metadata": {
    "collapsed": false
   },
   "outputs": [
    {
     "name": "stdout",
     "output_type": "stream",
     "text": [
      "(0.3333333333333333, 0.6666666666666666, 0.0, 12.0)\n",
      "(0.3333333333333333, 0.6666666666666666, 0.0, 12.0)\n"
     ]
    },
    {
     "data": {
      "text/plain": [
       "0.9182958340544896"
      ]
     },
     "execution_count": 228,
     "metadata": {},
     "output_type": "execute_result"
    }
   ],
   "source": [
    "#Malic acid\n",
    "\n",
    "tot = len(df) *(1.0)\n",
    "\n",
    "dfAlc1 = df.loc[df['Malic acid'] == '< 1.865']\n",
    "dfAlc2 = df.loc[df['Malic acid'] == '≥ 1.865']\n",
    "pr1 = len(dfAlc1) * 1.0\n",
    "pr2 = len(dfAlc2) * 1.0\n",
    "\n",
    "p11 = len(dfAlc1.loc[df['Class'] == 'Class 1']) * 1.0 / pr1\n",
    "p12 = len(dfAlc1.loc[df['Class'] == 'Class 2']) * 1.0 / pr1\n",
    "p13 = len(dfAlc1.loc[df['Class'] == 'Class 3']) * 1.0 / pr1\n",
    "\n",
    "p21 = len(dfAlc2.loc[df['Class'] == 'Class 1']) * 1.0 / pr2\n",
    "p22 = len(dfAlc2.loc[df['Class'] == 'Class 2']) * 1.0 / pr2\n",
    "p23 = len(dfAlc2.loc[df['Class'] == 'Class 3']) * 1.0 / pr2\n",
    "\n",
    "\n",
    "print(p11,p12,p13,pr1)\n",
    "print(p21,p22,p23,pr2)\n",
    "\n",
    "\n",
    "if (p11 == 0):\n",
    "    x1 = 0\n",
    "else:\n",
    "    x1 = (p11 * math.log(p11,2))\n",
    "\n",
    "if (p12 == 0):\n",
    "    x2 = 0\n",
    "else:\n",
    "    x2 = (p12 * math.log(p12,2))\n",
    "    \n",
    "if (p13 == 0):\n",
    "    x3 = 0;\n",
    "else:\n",
    "    x3 = (p13 * math.log(p13,2))\n",
    "\n",
    "E1  = x1 + x2 + x3\n",
    "E1 = -1 * E1\n",
    "\n",
    "if (p21 == 0):\n",
    "    y1 = 0\n",
    "else:\n",
    "    y1 = (p21 * math.log(p21,2))\n",
    "\n",
    "if (p22 == 0):\n",
    "    y2 = 0\n",
    "else:\n",
    "    y2 = (p22 * math.log(p22,2))\n",
    "    \n",
    "if (p23 == 0):\n",
    "    y3 = 0;\n",
    "else:\n",
    "    y3 = (p23 * math.log(p23,2))\n",
    "    \n",
    "E2  =  y1 +y2 + y3\n",
    "E2 = -1 * E2\n",
    "\n",
    "Etx = ((pr1/tot) * E1) + ((pr2/tot) * E2)\n",
    "A2 = Etx \n",
    "Etx"
   ]
  },
  {
   "cell_type": "code",
   "execution_count": 229,
   "metadata": {
    "collapsed": false
   },
   "outputs": [
    {
     "name": "stdout",
     "output_type": "stream",
     "text": [
      "(0.23076923076923078, 0.7692307692307693, 0.0, 13.0)\n",
      "(0.45454545454545453, 0.5454545454545454, 0.0, 11.0)\n"
     ]
    },
    {
     "data": {
      "text/plain": [
       "0.8777450087934844"
      ]
     },
     "execution_count": 229,
     "metadata": {},
     "output_type": "execute_result"
    }
   ],
   "source": [
    "#Ash\n",
    "\n",
    "tot = len(df) *(1.0)\n",
    "\n",
    "dfAlc1 = df.loc[df['Ash'] == '< 2.355']\n",
    "dfAlc2 = df.loc[df['Ash'] == '≥ 2.355']\n",
    "pr1 = len(dfAlc1) * 1.0\n",
    "pr2 = len(dfAlc2) * 1.0\n",
    "\n",
    "p11 = len(dfAlc1.loc[df['Class'] == 'Class 1']) * 1.0 / pr1\n",
    "p12 = len(dfAlc1.loc[df['Class'] == 'Class 2']) * 1.0 / pr1\n",
    "p13 = len(dfAlc1.loc[df['Class'] == 'Class 3']) * 1.0 / pr1\n",
    "\n",
    "p21 = len(dfAlc2.loc[df['Class'] == 'Class 1']) * 1.0 / pr2\n",
    "p22 = len(dfAlc2.loc[df['Class'] == 'Class 2']) * 1.0 / pr2\n",
    "p23 = len(dfAlc2.loc[df['Class'] == 'Class 3']) * 1.0 / pr2\n",
    "\n",
    "\n",
    "print(p11,p12,p13,pr1)\n",
    "print(p21,p22,p23,pr2)\n",
    "\n",
    "\n",
    "if (p11 == 0):\n",
    "    x1 = 0\n",
    "else:\n",
    "    x1 = (p11 * math.log(p11,2))\n",
    "\n",
    "if (p12 == 0):\n",
    "    x2 = 0\n",
    "else:\n",
    "    x2 = (p12 * math.log(p12,2))\n",
    "    \n",
    "if (p13 == 0):\n",
    "    x3 = 0;\n",
    "else:\n",
    "    x3 = (p13 * math.log(p13,2))\n",
    "\n",
    "E1  = x1 + x2 + x3\n",
    "E1 = -1 * E1\n",
    "\n",
    "if (p21 == 0):\n",
    "    y1 = 0\n",
    "else:\n",
    "    y1 = (p21 * math.log(p21,2))\n",
    "\n",
    "if (p22 == 0):\n",
    "    y2 = 0\n",
    "else:\n",
    "    y2 = (p22 * math.log(p22,2))\n",
    "    \n",
    "if (p23 == 0):\n",
    "    y3 = 0;\n",
    "else:\n",
    "    y3 = (p23 * math.log(p23,2))\n",
    "    \n",
    "E2  =  y1 +y2 + y3\n",
    "E2 = -1 * E2\n",
    "\n",
    "Etx = ((pr1/tot) * E1) + ((pr2/tot) * E2)\n",
    "A3 = Etx \n",
    "Etx"
   ]
  },
  {
   "cell_type": "code",
   "execution_count": 230,
   "metadata": {
    "collapsed": false
   },
   "outputs": [
    {
     "name": "stdout",
     "output_type": "stream",
     "text": [
      "(0.38461538461538464, 0.6153846153846154, 0.0, 13.0)\n",
      "(0.2727272727272727, 0.7272727272727273, 0.0, 11.0)\n"
     ]
    },
    {
     "data": {
      "text/plain": [
       "0.9081223401768412"
      ]
     },
     "execution_count": 230,
     "metadata": {},
     "output_type": "execute_result"
    }
   ],
   "source": [
    "#Alcalinity of ash\n",
    "\n",
    "tot = len(df) *(1.0)\n",
    "\n",
    "dfAlc1 = df.loc[df['Alcalinity of ash'] == '< 19.45']\n",
    "dfAlc2 = df.loc[df['Alcalinity of ash'] == '≥ 19.45']\n",
    "pr1 = len(dfAlc1) * 1.0\n",
    "pr2 = len(dfAlc2) * 1.0\n",
    "\n",
    "p11 = len(dfAlc1.loc[df['Class'] == 'Class 1']) * 1.0 / pr1\n",
    "p12 = len(dfAlc1.loc[df['Class'] == 'Class 2']) * 1.0 / pr1\n",
    "p13 = len(dfAlc1.loc[df['Class'] == 'Class 3']) * 1.0 / pr1\n",
    "\n",
    "p21 = len(dfAlc2.loc[df['Class'] == 'Class 1']) * 1.0 / pr2\n",
    "p22 = len(dfAlc2.loc[df['Class'] == 'Class 2']) * 1.0 / pr2\n",
    "p23 = len(dfAlc2.loc[df['Class'] == 'Class 3']) * 1.0 / pr2\n",
    "\n",
    "\n",
    "print(p11,p12,p13,pr1)\n",
    "print(p21,p22,p23,pr2)\n",
    "\n",
    "\n",
    "if (p11 == 0):\n",
    "    x1 = 0\n",
    "else:\n",
    "    x1 = (p11 * math.log(p11,2))\n",
    "\n",
    "if (p12 == 0):\n",
    "    x2 = 0\n",
    "else:\n",
    "    x2 = (p12 * math.log(p12,2))\n",
    "    \n",
    "if (p13 == 0):\n",
    "    x3 = 0;\n",
    "else:\n",
    "    x3 = (p13 * math.log(p13,2))\n",
    "\n",
    "E1  = x1 + x2 + x3\n",
    "E1 = -1 * E1\n",
    "\n",
    "if (p21 == 0):\n",
    "    y1 = 0\n",
    "else:\n",
    "    y1 = (p21 * math.log(p21,2))\n",
    "\n",
    "if (p22 == 0):\n",
    "    y2 = 0\n",
    "else:\n",
    "    y2 = (p22 * math.log(p22,2))\n",
    "    \n",
    "if (p23 == 0):\n",
    "    y3 = 0;\n",
    "else:\n",
    "    y3 = (p23 * math.log(p23,2))\n",
    "    \n",
    "E2  =  y1 +y2 + y3\n",
    "E2 = -1 * E2\n",
    "\n",
    "Etx = ((pr1/tot) * E1) + ((pr2/tot) * E2)\n",
    "A4 = Etx \n",
    "Etx"
   ]
  },
  {
   "cell_type": "code",
   "execution_count": 231,
   "metadata": {
    "collapsed": false
   },
   "outputs": [
    {
     "name": "stdout",
     "output_type": "stream",
     "text": [
      "(0.1875, 0.8125, 0.0, 16.0)\n",
      "(0.625, 0.375, 0.0, 8.0)\n"
     ]
    },
    {
     "data": {
      "text/plain": [
       "0.7822861743917522"
      ]
     },
     "execution_count": 231,
     "metadata": {},
     "output_type": "execute_result"
    }
   ],
   "source": [
    "#Magnesium\n",
    "\n",
    "tot = len(df) *(1.0)\n",
    "\n",
    "dfAlc1 = df.loc[df['Magnesium'] == '< 97.5']\n",
    "dfAlc2 = df.loc[df['Magnesium'] == '≥ 97.5']\n",
    "pr1 = len(dfAlc1) * 1.0\n",
    "pr2 = len(dfAlc2) * 1.0\n",
    "\n",
    "p11 = len(dfAlc1.loc[df['Class'] == 'Class 1']) * 1.0 / pr1\n",
    "p12 = len(dfAlc1.loc[df['Class'] == 'Class 2']) * 1.0 / pr1\n",
    "p13 = len(dfAlc1.loc[df['Class'] == 'Class 3']) * 1.0 / pr1\n",
    "\n",
    "p21 = len(dfAlc2.loc[df['Class'] == 'Class 1']) * 1.0 / pr2\n",
    "p22 = len(dfAlc2.loc[df['Class'] == 'Class 2']) * 1.0 / pr2\n",
    "p23 = len(dfAlc2.loc[df['Class'] == 'Class 3']) * 1.0 / pr2\n",
    "\n",
    "\n",
    "print(p11,p12,p13,pr1)\n",
    "print(p21,p22,p23,pr2)\n",
    "\n",
    "\n",
    "if (p11 == 0):\n",
    "    x1 = 0\n",
    "else:\n",
    "    x1 = (p11 * math.log(p11,2))\n",
    "\n",
    "if (p12 == 0):\n",
    "    x2 = 0\n",
    "else:\n",
    "    x2 = (p12 * math.log(p12,2))\n",
    "    \n",
    "if (p13 == 0):\n",
    "    x3 = 0;\n",
    "else:\n",
    "    x3 = (p13 * math.log(p13,2))\n",
    "\n",
    "E1  = x1 + x2 + x3\n",
    "E1 = -1 * E1\n",
    "\n",
    "if (p21 == 0):\n",
    "    y1 = 0\n",
    "else:\n",
    "    y1 = (p21 * math.log(p21,2))\n",
    "\n",
    "if (p22 == 0):\n",
    "    y2 = 0\n",
    "else:\n",
    "    y2 = (p22 * math.log(p22,2))\n",
    "    \n",
    "if (p23 == 0):\n",
    "    y3 = 0;\n",
    "else:\n",
    "    y3 = (p23 * math.log(p23,2))\n",
    "    \n",
    "E2  =  y1 +y2 + y3\n",
    "E2 = -1 * E2\n",
    "\n",
    "Etx = ((pr1/tot) * E1) + ((pr2/tot) * E2)\n",
    "A5 = Etx \n",
    "Etx\n"
   ]
  },
  {
   "cell_type": "code",
   "execution_count": 232,
   "metadata": {
    "collapsed": false
   },
   "outputs": [
    {
     "name": "stdout",
     "output_type": "stream",
     "text": [
      "(0.0, 1.0, 0.0, 2.0)\n",
      "(0.36363636363636365, 0.6363636363636364, 0.0, 22.0)\n"
     ]
    },
    {
     "data": {
      "text/plain": [
       "0.8668552792172535"
      ]
     },
     "execution_count": 232,
     "metadata": {},
     "output_type": "execute_result"
    }
   ],
   "source": [
    "#Total phenols\n",
    "\n",
    "tot = len(df) *(1.0)\n",
    "\n",
    "dfAlc1 = df.loc[df['Total phenols'] == '< 2.355']\n",
    "dfAlc2 = df.loc[df['Total phenols'] == '≥ 2.355']\n",
    "pr1 = len(dfAlc1) * 1.0\n",
    "pr2 = len(dfAlc2) * 1.0\n",
    "\n",
    "p11 = len(dfAlc1.loc[df['Class'] == 'Class 1']) * 1.0 / pr1\n",
    "p12 = len(dfAlc1.loc[df['Class'] == 'Class 2']) * 1.0 / pr1\n",
    "p13 = len(dfAlc1.loc[df['Class'] == 'Class 3']) * 1.0 / pr1\n",
    "\n",
    "p21 = len(dfAlc2.loc[df['Class'] == 'Class 1']) * 1.0 / pr2\n",
    "p22 = len(dfAlc2.loc[df['Class'] == 'Class 2']) * 1.0 / pr2\n",
    "p23 = len(dfAlc2.loc[df['Class'] == 'Class 3']) * 1.0 / pr2\n",
    "\n",
    "\n",
    "print(p11,p12,p13,pr1)\n",
    "print(p21,p22,p23,pr2)\n",
    "\n",
    "\n",
    "if (p11 == 0):\n",
    "    x1 = 0\n",
    "else:\n",
    "    x1 = (p11 * math.log(p11,2))\n",
    "\n",
    "if (p12 == 0):\n",
    "    x2 = 0\n",
    "else:\n",
    "    x2 = (p12 * math.log(p12,2))\n",
    "    \n",
    "if (p13 == 0):\n",
    "    x3 = 0;\n",
    "else:\n",
    "    x3 = (p13 * math.log(p13,2))\n",
    "\n",
    "E1  = x1 + x2 + x3\n",
    "E1 = -1 * E1\n",
    "\n",
    "if (p21 == 0):\n",
    "    y1 = 0\n",
    "else:\n",
    "    y1 = (p21 * math.log(p21,2))\n",
    "\n",
    "if (p22 == 0):\n",
    "    y2 = 0\n",
    "else:\n",
    "    y2 = (p22 * math.log(p22,2))\n",
    "    \n",
    "if (p23 == 0):\n",
    "    y3 = 0;\n",
    "else:\n",
    "    y3 = (p23 * math.log(p23,2))\n",
    "    \n",
    "E2  =  y1 +y2 + y3\n",
    "E2 = -1 * E2\n",
    "\n",
    "Etx = ((pr1/tot) * E1) + ((pr2/tot) * E2)\n",
    "A6 = Etx \n",
    "Etx"
   ]
  },
  {
   "cell_type": "code",
   "execution_count": 233,
   "metadata": {
    "collapsed": false
   },
   "outputs": [
    {
     "ename": "ZeroDivisionError",
     "evalue": "float division by zero",
     "output_type": "error",
     "traceback": [
      "\u001b[1;31m---------------------------------------------------------------------------\u001b[0m",
      "\u001b[1;31mZeroDivisionError\u001b[0m                         Traceback (most recent call last)",
      "\u001b[1;32m<ipython-input-233-16d1e5e80b6a>\u001b[0m in \u001b[0;36m<module>\u001b[1;34m()\u001b[0m\n\u001b[0;32m      7\u001b[0m \u001b[0mpr2\u001b[0m \u001b[1;33m=\u001b[0m \u001b[0mlen\u001b[0m\u001b[1;33m(\u001b[0m\u001b[0mdfAlc2\u001b[0m\u001b[1;33m)\u001b[0m \u001b[1;33m*\u001b[0m \u001b[1;36m1.0\u001b[0m\u001b[1;33m\u001b[0m\u001b[0m\n\u001b[0;32m      8\u001b[0m \u001b[1;33m\u001b[0m\u001b[0m\n\u001b[1;32m----> 9\u001b[1;33m \u001b[0mp11\u001b[0m \u001b[1;33m=\u001b[0m \u001b[0mlen\u001b[0m\u001b[1;33m(\u001b[0m\u001b[0mdfAlc1\u001b[0m\u001b[1;33m.\u001b[0m\u001b[0mloc\u001b[0m\u001b[1;33m[\u001b[0m\u001b[0mdf\u001b[0m\u001b[1;33m[\u001b[0m\u001b[1;34m'Class'\u001b[0m\u001b[1;33m]\u001b[0m \u001b[1;33m==\u001b[0m \u001b[1;34m'Class 1'\u001b[0m\u001b[1;33m]\u001b[0m\u001b[1;33m)\u001b[0m \u001b[1;33m*\u001b[0m \u001b[1;36m1.0\u001b[0m \u001b[1;33m/\u001b[0m \u001b[0mpr1\u001b[0m\u001b[1;33m\u001b[0m\u001b[0m\n\u001b[0m\u001b[0;32m     10\u001b[0m \u001b[0mp12\u001b[0m \u001b[1;33m=\u001b[0m \u001b[0mlen\u001b[0m\u001b[1;33m(\u001b[0m\u001b[0mdfAlc1\u001b[0m\u001b[1;33m.\u001b[0m\u001b[0mloc\u001b[0m\u001b[1;33m[\u001b[0m\u001b[0mdf\u001b[0m\u001b[1;33m[\u001b[0m\u001b[1;34m'Class'\u001b[0m\u001b[1;33m]\u001b[0m \u001b[1;33m==\u001b[0m \u001b[1;34m'Class 2'\u001b[0m\u001b[1;33m]\u001b[0m\u001b[1;33m)\u001b[0m \u001b[1;33m*\u001b[0m \u001b[1;36m1.0\u001b[0m \u001b[1;33m/\u001b[0m \u001b[0mpr1\u001b[0m\u001b[1;33m\u001b[0m\u001b[0m\n\u001b[0;32m     11\u001b[0m \u001b[0mp13\u001b[0m \u001b[1;33m=\u001b[0m \u001b[0mlen\u001b[0m\u001b[1;33m(\u001b[0m\u001b[0mdfAlc1\u001b[0m\u001b[1;33m.\u001b[0m\u001b[0mloc\u001b[0m\u001b[1;33m[\u001b[0m\u001b[0mdf\u001b[0m\u001b[1;33m[\u001b[0m\u001b[1;34m'Class'\u001b[0m\u001b[1;33m]\u001b[0m \u001b[1;33m==\u001b[0m \u001b[1;34m'Class 3'\u001b[0m\u001b[1;33m]\u001b[0m\u001b[1;33m)\u001b[0m \u001b[1;33m*\u001b[0m \u001b[1;36m1.0\u001b[0m \u001b[1;33m/\u001b[0m \u001b[0mpr1\u001b[0m\u001b[1;33m\u001b[0m\u001b[0m\n",
      "\u001b[1;31mZeroDivisionError\u001b[0m: float division by zero"
     ]
    }
   ],
   "source": [
    "#Flavanoids\n",
    "tot = len(df) *(1.0)\n",
    "\n",
    "dfAlc1 = df.loc[df['Flavanoids'] == '< 2.135']\n",
    "dfAlc2 = df.loc[df['Flavanoids'] == '≥ 2.135']\n",
    "pr1 = len(dfAlc1) * 1.0\n",
    "pr2 = len(dfAlc2) * 1.0\n",
    "\n",
    "p11 = len(dfAlc1.loc[df['Class'] == 'Class 1']) * 1.0 / pr1\n",
    "p12 = len(dfAlc1.loc[df['Class'] == 'Class 2']) * 1.0 / pr1\n",
    "p13 = len(dfAlc1.loc[df['Class'] == 'Class 3']) * 1.0 / pr1\n",
    "\n",
    "p21 = len(dfAlc2.loc[df['Class'] == 'Class 1']) * 1.0 / pr2\n",
    "p22 = len(dfAlc2.loc[df['Class'] == 'Class 2']) * 1.0 / pr2\n",
    "p23 = len(dfAlc2.loc[df['Class'] == 'Class 3']) * 1.0 / pr2\n",
    "\n",
    "\n",
    "print(p11,p12,p13,pr1)\n",
    "print(p21,p22,p23,pr2)\n",
    "\n",
    "\n",
    "if (p11 == 0):\n",
    "    x1 = 0\n",
    "else:\n",
    "    x1 = (p11 * math.log(p11,2))\n",
    "\n",
    "if (p12 == 0):\n",
    "    x2 = 0\n",
    "else:\n",
    "    x2 = (p12 * math.log(p12,2))\n",
    "    \n",
    "if (p13 == 0):\n",
    "    x3 = 0;\n",
    "else:\n",
    "    x3 = (p13 * math.log(p13,2))\n",
    "\n",
    "E1  = x1 + x2 + x3\n",
    "E1 = -1 * E1\n",
    "\n",
    "if (p21 == 0):\n",
    "    y1 = 0\n",
    "else:\n",
    "    y1 = (p21 * math.log(p21,2))\n",
    "\n",
    "if (p22 == 0):\n",
    "    y2 = 0\n",
    "else:\n",
    "    y2 = (p22 * math.log(p22,2))\n",
    "    \n",
    "if (p23 == 0):\n",
    "    y3 = 0;\n",
    "else:\n",
    "    y3 = (p23 * math.log(p23,2))\n",
    "    \n",
    "E2  =  y1 +y2 + y3\n",
    "E2 = -1 * E2\n",
    "\n",
    "Etx = ((pr1/tot) * E1) + ((pr2/tot) * E2)\n",
    "A7 = Etx \n",
    "Etx"
   ]
  },
  {
   "cell_type": "code",
   "execution_count": 234,
   "metadata": {
    "collapsed": false
   },
   "outputs": [
    {
     "name": "stdout",
     "output_type": "stream",
     "text": [
      "(0.35714285714285715, 0.6428571428571429, 0.0, 14.0)\n",
      "(0.3, 0.7, 0.0, 10.0)\n"
     ]
    },
    {
     "data": {
      "text/plain": [
       "0.91570468390399"
      ]
     },
     "execution_count": 234,
     "metadata": {},
     "output_type": "execute_result"
    }
   ],
   "source": [
    "#Nonflavanoid phenols\n",
    "\n",
    "tot = len(df) *(1.0)\n",
    "\n",
    "dfAlc1 = df.loc[df['Nonflavanoid phenols'] == '< 0.335']\n",
    "dfAlc2 = df.loc[df['Nonflavanoid phenols'] == '≥ 0.335']\n",
    "pr1 = len(dfAlc1) * 1.0\n",
    "pr2 = len(dfAlc2) * 1.0\n",
    "\n",
    "p11 = len(dfAlc1.loc[df['Class'] == 'Class 1']) * 1.0 / pr1\n",
    "p12 = len(dfAlc1.loc[df['Class'] == 'Class 2']) * 1.0 / pr1\n",
    "p13 = len(dfAlc1.loc[df['Class'] == 'Class 3']) * 1.0 / pr1\n",
    "\n",
    "p21 = len(dfAlc2.loc[df['Class'] == 'Class 1']) * 1.0 / pr2\n",
    "p22 = len(dfAlc2.loc[df['Class'] == 'Class 2']) * 1.0 / pr2\n",
    "p23 = len(dfAlc2.loc[df['Class'] == 'Class 3']) * 1.0 / pr2\n",
    "\n",
    "\n",
    "print(p11,p12,p13,pr1)\n",
    "print(p21,p22,p23,pr2)\n",
    "\n",
    "\n",
    "if (p11 == 0):\n",
    "    x1 = 0\n",
    "else:\n",
    "    x1 = (p11 * math.log(p11,2))\n",
    "\n",
    "if (p12 == 0):\n",
    "    x2 = 0\n",
    "else:\n",
    "    x2 = (p12 * math.log(p12,2))\n",
    "    \n",
    "if (p13 == 0):\n",
    "    x3 = 0;\n",
    "else:\n",
    "    x3 = (p13 * math.log(p13,2))\n",
    "\n",
    "E1  = x1 + x2 + x3\n",
    "E1 = -1 * E1\n",
    "\n",
    "if (p21 == 0):\n",
    "    y1 = 0\n",
    "else:\n",
    "    y1 = (p21 * math.log(p21,2))\n",
    "\n",
    "if (p22 == 0):\n",
    "    y2 = 0\n",
    "else:\n",
    "    y2 = (p22 * math.log(p22,2))\n",
    "    \n",
    "if (p23 == 0):\n",
    "    y3 = 0;\n",
    "else:\n",
    "    y3 = (p23 * math.log(p23,2))\n",
    "    \n",
    "E2  =  y1 +y2 + y3\n",
    "E2 = -1 * E2\n",
    "\n",
    "Etx = ((pr1/tot) * E1) + ((pr2/tot) * E2)\n",
    "A8 = Etx \n",
    "Etx\n"
   ]
  },
  {
   "cell_type": "code",
   "execution_count": 235,
   "metadata": {
    "collapsed": false
   },
   "outputs": [
    {
     "name": "stdout",
     "output_type": "stream",
     "text": [
      "(0.4444444444444444, 0.5555555555555556, 0.0, 9.0)\n",
      "(0.26666666666666666, 0.7333333333333333, 0.0, 15.0)\n"
     ]
    },
    {
     "data": {
      "text/plain": [
       "0.894553986152563"
      ]
     },
     "execution_count": 235,
     "metadata": {},
     "output_type": "execute_result"
    }
   ],
   "source": [
    "#Proanthocyanins\n",
    "\n",
    "tot = len(df) *(1.0)\n",
    "\n",
    "dfAlc1 = df.loc[df['Proanthocyanins'] == '< 1.555']\n",
    "dfAlc2 = df.loc[df['Proanthocyanins'] == '≥ 1.555']\n",
    "pr1 = len(dfAlc1) * 1.0\n",
    "pr2 = len(dfAlc2) * 1.0\n",
    "\n",
    "p11 = len(dfAlc1.loc[df['Class'] == 'Class 1']) * 1.0 / pr1\n",
    "p12 = len(dfAlc1.loc[df['Class'] == 'Class 2']) * 1.0 / pr1\n",
    "p13 = len(dfAlc1.loc[df['Class'] == 'Class 3']) * 1.0 / pr1\n",
    "\n",
    "p21 = len(dfAlc2.loc[df['Class'] == 'Class 1']) * 1.0 / pr2\n",
    "p22 = len(dfAlc2.loc[df['Class'] == 'Class 2']) * 1.0 / pr2\n",
    "p23 = len(dfAlc2.loc[df['Class'] == 'Class 3']) * 1.0 / pr2\n",
    "\n",
    "\n",
    "print(p11,p12,p13,pr1)\n",
    "print(p21,p22,p23,pr2)\n",
    "\n",
    "\n",
    "if (p11 == 0):\n",
    "    x1 = 0\n",
    "else:\n",
    "    x1 = (p11 * math.log(p11,2))\n",
    "\n",
    "if (p12 == 0):\n",
    "    x2 = 0\n",
    "else:\n",
    "    x2 = (p12 * math.log(p12,2))\n",
    "    \n",
    "if (p13 == 0):\n",
    "    x3 = 0;\n",
    "else:\n",
    "    x3 = (p13 * math.log(p13,2))\n",
    "\n",
    "E1  = x1 + x2 + x3\n",
    "E1 = -1 * E1\n",
    "\n",
    "if (p21 == 0):\n",
    "    y1 = 0\n",
    "else:\n",
    "    y1 = (p21 * math.log(p21,2))\n",
    "\n",
    "if (p22 == 0):\n",
    "    y2 = 0\n",
    "else:\n",
    "    y2 = (p22 * math.log(p22,2))\n",
    "    \n",
    "if (p23 == 0):\n",
    "    y3 = 0;\n",
    "else:\n",
    "    y3 = (p23 * math.log(p23,2))\n",
    "    \n",
    "E2  =  y1 +y2 + y3\n",
    "E2 = -1 * E2\n",
    "\n",
    "Etx = ((pr1/tot) * E1) + ((pr2/tot) * E2)\n",
    "A9 = Etx \n",
    "Etx"
   ]
  },
  {
   "cell_type": "code",
   "execution_count": 236,
   "metadata": {
    "collapsed": false
   },
   "outputs": [
    {
     "ename": "ZeroDivisionError",
     "evalue": "float division by zero",
     "output_type": "error",
     "traceback": [
      "\u001b[1;31m---------------------------------------------------------------------------\u001b[0m",
      "\u001b[1;31mZeroDivisionError\u001b[0m                         Traceback (most recent call last)",
      "\u001b[1;32m<ipython-input-236-6d6b16292d8e>\u001b[0m in \u001b[0;36m<module>\u001b[1;34m()\u001b[0m\n\u001b[0;32m     12\u001b[0m \u001b[0mp13\u001b[0m \u001b[1;33m=\u001b[0m \u001b[0mlen\u001b[0m\u001b[1;33m(\u001b[0m\u001b[0mdfAlc1\u001b[0m\u001b[1;33m.\u001b[0m\u001b[0mloc\u001b[0m\u001b[1;33m[\u001b[0m\u001b[0mdf\u001b[0m\u001b[1;33m[\u001b[0m\u001b[1;34m'Class'\u001b[0m\u001b[1;33m]\u001b[0m \u001b[1;33m==\u001b[0m \u001b[1;34m'Class 3'\u001b[0m\u001b[1;33m]\u001b[0m\u001b[1;33m)\u001b[0m \u001b[1;33m*\u001b[0m \u001b[1;36m1.0\u001b[0m \u001b[1;33m/\u001b[0m \u001b[0mpr1\u001b[0m\u001b[1;33m\u001b[0m\u001b[0m\n\u001b[0;32m     13\u001b[0m \u001b[1;33m\u001b[0m\u001b[0m\n\u001b[1;32m---> 14\u001b[1;33m \u001b[0mp21\u001b[0m \u001b[1;33m=\u001b[0m \u001b[0mlen\u001b[0m\u001b[1;33m(\u001b[0m\u001b[0mdfAlc2\u001b[0m\u001b[1;33m.\u001b[0m\u001b[0mloc\u001b[0m\u001b[1;33m[\u001b[0m\u001b[0mdf\u001b[0m\u001b[1;33m[\u001b[0m\u001b[1;34m'Class'\u001b[0m\u001b[1;33m]\u001b[0m \u001b[1;33m==\u001b[0m \u001b[1;34m'Class 1'\u001b[0m\u001b[1;33m]\u001b[0m\u001b[1;33m)\u001b[0m \u001b[1;33m*\u001b[0m \u001b[1;36m1.0\u001b[0m \u001b[1;33m/\u001b[0m \u001b[0mpr2\u001b[0m\u001b[1;33m\u001b[0m\u001b[0m\n\u001b[0m\u001b[0;32m     15\u001b[0m \u001b[0mp22\u001b[0m \u001b[1;33m=\u001b[0m \u001b[0mlen\u001b[0m\u001b[1;33m(\u001b[0m\u001b[0mdfAlc2\u001b[0m\u001b[1;33m.\u001b[0m\u001b[0mloc\u001b[0m\u001b[1;33m[\u001b[0m\u001b[0mdf\u001b[0m\u001b[1;33m[\u001b[0m\u001b[1;34m'Class'\u001b[0m\u001b[1;33m]\u001b[0m \u001b[1;33m==\u001b[0m \u001b[1;34m'Class 2'\u001b[0m\u001b[1;33m]\u001b[0m\u001b[1;33m)\u001b[0m \u001b[1;33m*\u001b[0m \u001b[1;36m1.0\u001b[0m \u001b[1;33m/\u001b[0m \u001b[0mpr2\u001b[0m\u001b[1;33m\u001b[0m\u001b[0m\n\u001b[0;32m     16\u001b[0m \u001b[0mp23\u001b[0m \u001b[1;33m=\u001b[0m \u001b[0mlen\u001b[0m\u001b[1;33m(\u001b[0m\u001b[0mdfAlc2\u001b[0m\u001b[1;33m.\u001b[0m\u001b[0mloc\u001b[0m\u001b[1;33m[\u001b[0m\u001b[0mdf\u001b[0m\u001b[1;33m[\u001b[0m\u001b[1;34m'Class'\u001b[0m\u001b[1;33m]\u001b[0m \u001b[1;33m==\u001b[0m \u001b[1;34m'Class 3'\u001b[0m\u001b[1;33m]\u001b[0m\u001b[1;33m)\u001b[0m \u001b[1;33m*\u001b[0m \u001b[1;36m1.0\u001b[0m \u001b[1;33m/\u001b[0m \u001b[0mpr2\u001b[0m\u001b[1;33m\u001b[0m\u001b[0m\n",
      "\u001b[1;31mZeroDivisionError\u001b[0m: float division by zero"
     ]
    }
   ],
   "source": [
    "#Color intensity\n",
    "\n",
    "tot = len(df) *(1.0)\n",
    "\n",
    "dfAlc1 = df.loc[df['Color intensity'] == '< 4.69']\n",
    "dfAlc2 = df.loc[df['Color intensity'] == '≥ 4.69']\n",
    "pr1 = len(dfAlc1) * 1.0\n",
    "pr2 = len(dfAlc2) * 1.0\n",
    "\n",
    "p11 = len(dfAlc1.loc[df['Class'] == 'Class 1']) * 1.0 / pr1\n",
    "p12 = len(dfAlc1.loc[df['Class'] == 'Class 2']) * 1.0 / pr1\n",
    "p13 = len(dfAlc1.loc[df['Class'] == 'Class 3']) * 1.0 / pr1\n",
    "\n",
    "p21 = len(dfAlc2.loc[df['Class'] == 'Class 1']) * 1.0 / pr2\n",
    "p22 = len(dfAlc2.loc[df['Class'] == 'Class 2']) * 1.0 / pr2\n",
    "p23 = len(dfAlc2.loc[df['Class'] == 'Class 3']) * 1.0 / pr2\n",
    "\n",
    "\n",
    "print(p11,p12,p13,pr1)\n",
    "print(p21,p22,p23,pr2)\n",
    "\n",
    "\n",
    "if (p11 == 0):\n",
    "    x1 = 0\n",
    "else:\n",
    "    x1 = (p11 * math.log(p11,2))\n",
    "\n",
    "if (p12 == 0):\n",
    "    x2 = 0\n",
    "else:\n",
    "    x2 = (p12 * math.log(p12,2))\n",
    "    \n",
    "if (p13 == 0):\n",
    "    x3 = 0;\n",
    "else:\n",
    "    x3 = (p13 * math.log(p13,2))\n",
    "\n",
    "E1  = x1 + x2 + x3\n",
    "E1 = -1 * E1\n",
    "\n",
    "if (p21 == 0):\n",
    "    y1 = 0\n",
    "else:\n",
    "    y1 = (p21 * math.log(p21,2))\n",
    "\n",
    "if (p22 == 0):\n",
    "    y2 = 0\n",
    "else:\n",
    "    y2 = (p22 * math.log(p22,2))\n",
    "    \n",
    "if (p23 == 0):\n",
    "    y3 = 0;\n",
    "else:\n",
    "    y3 = (p23 * math.log(p23,2))\n",
    "    \n",
    "E2  =  y1 +y2 + y3\n",
    "E2 = -1 * E2\n",
    "\n",
    "Etx = ((pr1/tot) * E1) + ((pr2/tot) * E2)\n",
    "A10 = Etx \n",
    "Etx"
   ]
  },
  {
   "cell_type": "code",
   "execution_count": 237,
   "metadata": {
    "collapsed": false
   },
   "outputs": [
    {
     "name": "stdout",
     "output_type": "stream",
     "text": [
      "(0.3333333333333333, 0.6666666666666666, 0.0, 6.0)\n",
      "(0.3333333333333333, 0.6666666666666666, 0.0, 18.0)\n"
     ]
    },
    {
     "data": {
      "text/plain": [
       "0.9182958340544896"
      ]
     },
     "execution_count": 237,
     "metadata": {},
     "output_type": "execute_result"
    }
   ],
   "source": [
    "#Hue\n",
    "\n",
    "tot = len(df) *(1.0)\n",
    "\n",
    "dfAlc1 = df.loc[df['Hue'] == '< 0.965']\n",
    "dfAlc2 = df.loc[df['Hue'] == '≥ 0.965']\n",
    "pr1 = len(dfAlc1) * 1.0\n",
    "pr2 = len(dfAlc2) * 1.0\n",
    "\n",
    "p11 = len(dfAlc1.loc[df['Class'] == 'Class 1']) * 1.0 / pr1\n",
    "p12 = len(dfAlc1.loc[df['Class'] == 'Class 2']) * 1.0 / pr1\n",
    "p13 = len(dfAlc1.loc[df['Class'] == 'Class 3']) * 1.0 / pr1\n",
    "\n",
    "p21 = len(dfAlc2.loc[df['Class'] == 'Class 1']) * 1.0 / pr2\n",
    "p22 = len(dfAlc2.loc[df['Class'] == 'Class 2']) * 1.0 / pr2\n",
    "p23 = len(dfAlc2.loc[df['Class'] == 'Class 3']) * 1.0 / pr2\n",
    "\n",
    "\n",
    "print(p11,p12,p13,pr1)\n",
    "print(p21,p22,p23,pr2)\n",
    "\n",
    "\n",
    "if (p11 == 0):\n",
    "    x1 = 0\n",
    "else:\n",
    "    x1 = (p11 * math.log(p11,2))\n",
    "\n",
    "if (p12 == 0):\n",
    "    x2 = 0\n",
    "else:\n",
    "    x2 = (p12 * math.log(p12,2))\n",
    "    \n",
    "if (p13 == 0):\n",
    "    x3 = 0;\n",
    "else:\n",
    "    x3 = (p13 * math.log(p13,2))\n",
    "\n",
    "E1  = x1 + x2 + x3\n",
    "E1 = -1 * E1\n",
    "\n",
    "if (p21 == 0):\n",
    "    y1 = 0\n",
    "else:\n",
    "    y1 = (p21 * math.log(p21,2))\n",
    "\n",
    "if (p22 == 0):\n",
    "    y2 = 0\n",
    "else:\n",
    "    y2 = (p22 * math.log(p22,2))\n",
    "    \n",
    "if (p23 == 0):\n",
    "    y3 = 0;\n",
    "else:\n",
    "    y3 = (p23 * math.log(p23,2))\n",
    "    \n",
    "E2  =  y1 +y2 + y3\n",
    "E2 = -1 * E2\n",
    "\n",
    "Etx = ((pr1/tot) * E1) + ((pr2/tot) * E2)\n",
    "A11 = Etx \n",
    "Etx"
   ]
  },
  {
   "cell_type": "code",
   "execution_count": 238,
   "metadata": {
    "collapsed": false
   },
   "outputs": [
    {
     "name": "stdout",
     "output_type": "stream",
     "text": [
      "(0.0, 1.0, 0.0, 3.0)\n",
      "(0.38095238095238093, 0.6190476190476191, 0.0, 21.0)\n"
     ]
    },
    {
     "data": {
      "text/plain": [
       "0.8388728976049904"
      ]
     },
     "execution_count": 238,
     "metadata": {},
     "output_type": "execute_result"
    }
   ],
   "source": [
    "#OD280/OD315 of diluted wines\n",
    "\n",
    "tot = len(df) *(1.0)\n",
    "\n",
    "dfAlc1 = df.loc[df['OD280/OD315 of diluted wines'] == '< 2.775']\n",
    "dfAlc2 = df.loc[df['OD280/OD315 of diluted wines'] == '≥ 2.775']\n",
    "pr1 = len(dfAlc1) * 1.0\n",
    "pr2 = len(dfAlc2) * 1.0\n",
    "\n",
    "p11 = len(dfAlc1.loc[df['Class'] == 'Class 1']) * 1.0 / pr1\n",
    "p12 = len(dfAlc1.loc[df['Class'] == 'Class 2']) * 1.0 / pr1\n",
    "p13 = len(dfAlc1.loc[df['Class'] == 'Class 3']) * 1.0 / pr1\n",
    "\n",
    "p21 = len(dfAlc2.loc[df['Class'] == 'Class 1']) * 1.0 / pr2\n",
    "p22 = len(dfAlc2.loc[df['Class'] == 'Class 2']) * 1.0 / pr2\n",
    "p23 = len(dfAlc2.loc[df['Class'] == 'Class 3']) * 1.0 / pr2\n",
    "\n",
    "\n",
    "print(p11,p12,p13,pr1)\n",
    "print(p21,p22,p23,pr2)\n",
    "\n",
    "\n",
    "if (p11 == 0):\n",
    "    x1 = 0\n",
    "else:\n",
    "    x1 = (p11 * math.log(p11,2))\n",
    "\n",
    "if (p12 == 0):\n",
    "    x2 = 0\n",
    "else:\n",
    "    x2 = (p12 * math.log(p12,2))\n",
    "    \n",
    "if (p13 == 0):\n",
    "    x3 = 0;\n",
    "else:\n",
    "    x3 = (p13 * math.log(p13,2))\n",
    "\n",
    "E1  = x1 + x2 + x3\n",
    "E1 = -1 * E1\n",
    "\n",
    "if (p21 == 0):\n",
    "    y1 = 0\n",
    "else:\n",
    "    y1 = (p21 * math.log(p21,2))\n",
    "\n",
    "if (p22 == 0):\n",
    "    y2 = 0\n",
    "else:\n",
    "    y2 = (p22 * math.log(p22,2))\n",
    "    \n",
    "if (p23 == 0):\n",
    "    y3 = 0;\n",
    "else:\n",
    "    y3 = (p23 * math.log(p23,2))\n",
    "    \n",
    "E2  =  y1 +y2 + y3\n",
    "E2 = -1 * E2\n",
    "\n",
    "Etx = ((pr1/tot) * E1) + ((pr2/tot) * E2)\n",
    "A12 = Etx \n",
    "Etx\n"
   ]
  },
  {
   "cell_type": "code",
   "execution_count": 239,
   "metadata": {
    "collapsed": false
   },
   "outputs": [
    {
     "name": "stdout",
     "output_type": "stream",
     "text": [
      "(0.0, 1.0, 0.0, 14.0)\n",
      "(0.8, 0.2, 0.0, 10.0)\n"
     ]
    },
    {
     "data": {
      "text/plain": [
       "0.3008033728697343"
      ]
     },
     "execution_count": 239,
     "metadata": {},
     "output_type": "execute_result"
    }
   ],
   "source": [
    "#OProline\n",
    "\n",
    "tot = len(df) *(1.0)\n",
    "\n",
    "dfAlc1 = df.loc[df['Proline'] == '< 673.5']\n",
    "dfAlc2 = df.loc[df['Proline'] == '≥ 673.5']\n",
    "pr1 = len(dfAlc1) * 1.0\n",
    "pr2 = len(dfAlc2) * 1.0\n",
    "\n",
    "p11 = len(dfAlc1.loc[df['Class'] == 'Class 1']) * 1.0 / pr1\n",
    "p12 = len(dfAlc1.loc[df['Class'] == 'Class 2']) * 1.0 / pr1\n",
    "p13 = len(dfAlc1.loc[df['Class'] == 'Class 3']) * 1.0 / pr1\n",
    "\n",
    "p21 = len(dfAlc2.loc[df['Class'] == 'Class 1']) * 1.0 / pr2\n",
    "p22 = len(dfAlc2.loc[df['Class'] == 'Class 2']) * 1.0 / pr2\n",
    "p23 = len(dfAlc2.loc[df['Class'] == 'Class 3']) * 1.0 / pr2\n",
    "\n",
    "\n",
    "print(p11,p12,p13,pr1)\n",
    "print(p21,p22,p23,pr2)\n",
    "\n",
    "\n",
    "if (p11 == 0):\n",
    "    x1 = 0\n",
    "else:\n",
    "    x1 = (p11 * math.log(p11,2))\n",
    "\n",
    "if (p12 == 0):\n",
    "    x2 = 0\n",
    "else:\n",
    "    x2 = (p12 * math.log(p12,2))\n",
    "    \n",
    "if (p13 == 0):\n",
    "    x3 = 0;\n",
    "else:\n",
    "    x3 = (p13 * math.log(p13,2))\n",
    "\n",
    "E1  = x1 + x2 + x3\n",
    "E1 = -1 * E1\n",
    "\n",
    "if (p21 == 0):\n",
    "    y1 = 0\n",
    "else:\n",
    "    y1 = (p21 * math.log(p21,2))\n",
    "\n",
    "if (p22 == 0):\n",
    "    y2 = 0\n",
    "else:\n",
    "    y2 = (p22 * math.log(p22,2))\n",
    "    \n",
    "if (p23 == 0):\n",
    "    y3 = 0;\n",
    "else:\n",
    "    y3 = (p23 * math.log(p23,2))\n",
    "    \n",
    "E2  =  y1 +y2 + y3\n",
    "E2 = -1 * E2\n",
    "\n",
    "Etx = ((pr1/tot) * E1) + ((pr2/tot) * E2)\n",
    "A13 = Etx \n",
    "Etx\n"
   ]
  },
  {
   "cell_type": "code",
   "execution_count": 242,
   "metadata": {
    "collapsed": false
   },
   "outputs": [
    {
     "data": {
      "text/plain": [
       "[0.5122476419099482,\n",
       " 0.0,\n",
       " 0.040550825261005174,\n",
       " 0.01017349387764832,\n",
       " 0.13600965966273737,\n",
       " 0.051440554837236085,\n",
       " -0.02241829682073493,\n",
       " 0.0025911501504995993,\n",
       " 0.02374184790192657,\n",
       " 0.7464081924146414,\n",
       " 0.0,\n",
       " 0.07942293644949916,\n",
       " 0.6174924611847552]"
      ]
     },
     "execution_count": 242,
     "metadata": {},
     "output_type": "execute_result"
    }
   ],
   "source": [
    "tab = [[\"Alchol\", Etarget, A1, Etarget - A1],\n",
    "       [\"Alchol\", Etarget, A2, Etarget - A2],\n",
    "       [\"Alchol\", Etarget, A3, Etarget - A3],\n",
    "       [\"Alchol\", Etarget, A4, Etarget - A4],\n",
    "       [\"Alchol\", Etarget, A5, Etarget - A5],\n",
    "       [\"Alchol\", Etarget, A6, Etarget - A6],\n",
    "       [\"Alchol\", Etarget, A7, Etarget - A7],\n",
    "       [\"Alchol\", Etarget, A8, Etarget - A8],\n",
    "       [\"Alchol\", Etarget, A9, Etarget - A9],\n",
    "       [\"Alchol\", Etarget, A10, Etarget - A10],\n",
    "       [\"Alchol\", Etarget, A11, Etarget - A11],\n",
    "       [\"Alchol\", Etarget, A12, Etarget - A12],\n",
    "       [\"Alchol\", Etarget, A13, Etarget - A13]]\n",
    "      \n",
    "tab1 = [ A1,\n",
    "        A2,\n",
    "       A3,\n",
    "       A4,\n",
    "        A5,\n",
    "       A6,\n",
    "        A7,\n",
    "        A8,\n",
    "        A9,\n",
    "        A10,\n",
    "        A11,\n",
    "        A12,\n",
    "        A13]\n",
    "tab2 = [ Etarget - A1,Etarget - A2,Etarget - A3, Etarget - A4, Etarget - A5, Etarget - A6,Etarget - A7,\n",
    "       Etarget - A8,\n",
    "        Etarget - A9,\n",
    "        Etarget - A10,\n",
    "        Etarget - A11,\n",
    "    Etarget - A12,\n",
    "      Etarget - A13]\n",
    "tab2\n"
   ]
  },
  {
   "cell_type": "code",
   "execution_count": null,
   "metadata": {
    "collapsed": true
   },
   "outputs": [],
   "source": []
  }
 ],
 "metadata": {
  "kernelspec": {
   "display_name": "Python 2",
   "language": "python",
   "name": "python2"
  },
  "language_info": {
   "codemirror_mode": {
    "name": "ipython",
    "version": 2
   },
   "file_extension": ".py",
   "mimetype": "text/x-python",
   "name": "python",
   "nbconvert_exporter": "python",
   "pygments_lexer": "ipython2",
   "version": "2.7.11"
  }
 },
 "nbformat": 4,
 "nbformat_minor": 0
}
